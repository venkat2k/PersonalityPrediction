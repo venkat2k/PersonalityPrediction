{
 "cells": [
  {
   "cell_type": "code",
   "execution_count": 2,
   "metadata": {},
   "outputs": [],
   "source": [
    "import turicreate\n",
    "import re, string\n",
    "from nltk.corpus import stopwords\n",
    "from nltk.stem.snowball import SnowballStemmer"
   ]
  },
  {
   "cell_type": "code",
   "execution_count": 3,
   "metadata": {},
   "outputs": [],
   "source": [
    "personality_model = turicreate.load_model(\"personality_model/\")"
   ]
  },
  {
   "cell_type": "code",
   "execution_count": 4,
   "metadata": {},
   "outputs": [],
   "source": [
    "stemmer = SnowballStemmer(\"english\")"
   ]
  },
  {
   "cell_type": "code",
   "execution_count": 5,
   "metadata": {},
   "outputs": [],
   "source": [
    "def clean_data(text):\n",
    "    text = text.lower()\n",
    "    text = re.sub(r'http\\S+', '', text)\n",
    "    chars = re.escape(string.punctuation)\n",
    "    text = re.sub(r'['+chars+']', '', text)\n",
    "    words = text.split()\n",
    "    clean_text = \"\"\n",
    "    for word in words:\n",
    "        clean_text += stemmer.stem(word) + \" \";\n",
    "    return clean_text"
   ]
  },
  {
   "cell_type": "code",
   "execution_count": 10,
   "metadata": {},
   "outputs": [
    {
     "data": {
      "text/html": [
       "<pre>Finished parsing file /mnt/c/users/user/desktop/PersonalityPrediction/testset.csv</pre>"
      ],
      "text/plain": [
       "Finished parsing file /mnt/c/users/user/desktop/PersonalityPrediction/testset.csv"
      ]
     },
     "metadata": {},
     "output_type": "display_data"
    },
    {
     "name": "stdout",
     "output_type": "stream",
     "text": [
      "------------------------------------------------------\n",
      "Inferred types from first 100 line(s) of file as \n",
      "column_type_hints=[str,str]\n"
     ]
    },
    {
     "data": {
      "text/html": [
       "<pre>Parsing completed. Parsed 1 lines in 0.075149 secs.</pre>"
      ],
      "text/plain": [
       "Parsing completed. Parsed 1 lines in 0.075149 secs."
      ]
     },
     "metadata": {},
     "output_type": "display_data"
    },
    {
     "name": "stdout",
     "output_type": "stream",
     "text": [
      "If parsing fails due to incorrect types, you can correct\n",
      "the inferred type list above and pass it to read_csv in\n",
      "the column_type_hints argument\n",
      "------------------------------------------------------\n"
     ]
    },
    {
     "data": {
      "text/html": [
       "<pre>Finished parsing file /mnt/c/users/user/desktop/PersonalityPrediction/testset.csv</pre>"
      ],
      "text/plain": [
       "Finished parsing file /mnt/c/users/user/desktop/PersonalityPrediction/testset.csv"
      ]
     },
     "metadata": {},
     "output_type": "display_data"
    },
    {
     "data": {
      "text/html": [
       "<pre>Parsing completed. Parsed 1 lines in 0.071865 secs.</pre>"
      ],
      "text/plain": [
       "Parsing completed. Parsed 1 lines in 0.071865 secs."
      ]
     },
     "metadata": {},
     "output_type": "display_data"
    }
   ],
   "source": []
  },
  {
   "cell_type": "code",
   "execution_count": 31,
   "metadata": {},
   "outputs": [],
   "source": [
    "def predict(text):\n",
    "    text = clean_data(text)\n",
    "    with open(\"testset.csv\") as fp:\n",
    "        fp.write(\"type,text\\n\")\n",
    "        fp.write(\"default,\"+text)\n",
    "    sf = turicreate.SFrame(\"testset.csv\")\n",
    "    sf[\"tfidf\"] = turicreate.text_analytics.count_words(sf[-1][\"text\"])\n",
    "    print(sf[0])\n",
    "    result = personality_model.predict(sf[0])\n",
    "    return result"
   ]
  },
  {
   "cell_type": "code",
   "execution_count": 32,
   "metadata": {},
   "outputs": [
    {
     "ename": "FileNotFoundError",
     "evalue": "[Errno 2] No such file or directory: 'test_data.csv'",
     "output_type": "error",
     "traceback": [
      "\u001b[0;31m---------------------------------------------------------------------------\u001b[0m",
      "\u001b[0;31mFileNotFoundError\u001b[0m                         Traceback (most recent call last)",
      "\u001b[0;32m<ipython-input-32-4981df3e70c7>\u001b[0m in \u001b[0;36m<module>\u001b[0;34m\u001b[0m\n\u001b[0;32m----> 1\u001b[0;31m \u001b[0mpredict\u001b[0m\u001b[0;34m(\u001b[0m\u001b[0;34m\"so mani question when i do these thing i would take the purpl pill pick win lotteri number do whatev i wanti work in a breweri for a coupl year here i dont know if your familiar with the local microscraft at all but mill st was the name of it their tankhous is my favorit of anyth locali am go to summon the great and power mr cafebot and his song of destruct the four horseman ride count your day peopl of earth intro nick the intp male from a basementthi thread is obvious about the textbook definit of manli ruffin it tuffin it and go hard in the mother fking paintstand up for yourself you ask for the time off and it was approv when they say oh shit we are short staf where is badger they figur out you ask for it off that whi you arnt therelol excel thread nt the dc i love watch basebal and play it oh and i hate the yanke im 19 ive had multipl partner i consid myself a man man i lift and i am intp noth thing with relationship is that you spend veri littl time in the bedroom compar to everyth els so while a dumb blond can make you happi for 20 minut a night it go to take morethink a man plant a fruit tree becaus it will give him food in a few year feel a few year later a squirrel is hungri so it eat the fruit from the tree intuit the man see hiswel i think you can appreci an einstein quot everyon is a genius but if you judg a fish on it abiil to climb a tree it will live it whole life believ it is stupid everybodyvsaucer men write poetry19 64oh and mountain dew releas mountain flavor dorito loco taco skateboard that is all also check this out stillther onli two thing i am certain of with rusel brand 1 he is veri heavilli extravert 2 he is a magic manher i am peopl im gonna make a male version intp video todayth creativ process of intp is get around to do the thing and not put it off i think were alway readi for work provid we have sleep and food in our stomachsi may look busi but i hear everythingim a guy but i like make video id love to be a part of thishey man it your life do or do not there is no tryy you know your an intp when you have more convers in your head than you do with real peopletldr yes i post thisspoken like a true intpif you realli are bother and i believ you are i think you should tell your boyfriend what you just said theremor invari get me talk becaus it has philosophi but with tangabl answer other good subject includ evolut hunter gather societi polit system good movieshey b3th i read your post and my immedi reaction was that your boyfriend is flip out over someth insignific have trust issu is noth to wag a finger at but i think your idea ofi enjoy 910 of darkbarlow s post so a crush ya maybein self defens but then it not realli a crime would you kill somebodi to save 1000 peopl for million of dollars“thirti year later he could not come to ani other conclus women were indisput better than men they were gentler more affection more love and more compassion they were rarelyw realli should make a clearcut method of differenti the two intp are lazi and useless they do thing for no reason often with disastr result the basic lack the thing that make7431774318743192013 not use adblock ps ask an analyt type they will tell you they want to see less advertis not help you do it betterhahahaha this73701 this is now a mango thread chameleon skill that thing where we can mirror the moodperson of other chameleon skill make me wonder if im be true to myselffre for allw wouldnt be human without either of themwel i know 100 sure you are wrong becaus i exist but obvious i cant prove it73121th problem is in the first word of your post watch the news tv news is entertain not journalismi resent the thought that human are noth but selfish creatur when be selfless can be accomplish on a whim fulfil in life often come in the form of give to other and solfonnyyup basic this lolsuicid is a perman solut to nonperman problem selfish it will caus pain and burden to your famili for the rest of their live so not think of them could be consideredlol your a women that was easyseri a day where everi intp is on adder we would live in utopia by noonrepeat the mantra i am self awareso you reject idea that dont come from god camus declar that human are here we exist there is noth that can chang that now we have a choic 1 get piss off give up or revoltwhat in fact is the absurd man he who without negat it doe noth for the etern not that nostalgia is foreign to him but he prefer his courag and his reason the first teach himso they dont need to elbow past peopl in a hurri and potenti miss the train door close otherwis they want to be first off the trainbus and not get stuck behind a crowd of slow walker this is a load question as for me im 19 and still strong believ in nonbelief internet polic restrain from troll at onc intp iicant\"\u001b[0m\u001b[0;34m)\u001b[0m\u001b[0;34m\u001b[0m\u001b[0;34m\u001b[0m\u001b[0m\n\u001b[0m",
      "\u001b[0;32m<ipython-input-31-7382034fb885>\u001b[0m in \u001b[0;36mpredict\u001b[0;34m(text)\u001b[0m\n\u001b[1;32m      1\u001b[0m \u001b[0;32mdef\u001b[0m \u001b[0mpredict\u001b[0m\u001b[0;34m(\u001b[0m\u001b[0mtext\u001b[0m\u001b[0;34m)\u001b[0m\u001b[0;34m:\u001b[0m\u001b[0;34m\u001b[0m\u001b[0;34m\u001b[0m\u001b[0m\n\u001b[1;32m      2\u001b[0m     \u001b[0mtext\u001b[0m \u001b[0;34m=\u001b[0m \u001b[0mclean_data\u001b[0m\u001b[0;34m(\u001b[0m\u001b[0mtext\u001b[0m\u001b[0;34m)\u001b[0m\u001b[0;34m\u001b[0m\u001b[0;34m\u001b[0m\u001b[0m\n\u001b[0;32m----> 3\u001b[0;31m     \u001b[0;32mwith\u001b[0m \u001b[0mopen\u001b[0m\u001b[0;34m(\u001b[0m\u001b[0;34m\"test_data.csv\"\u001b[0m\u001b[0;34m)\u001b[0m \u001b[0;32mas\u001b[0m \u001b[0mfp\u001b[0m\u001b[0;34m:\u001b[0m\u001b[0;34m\u001b[0m\u001b[0;34m\u001b[0m\u001b[0m\n\u001b[0m\u001b[1;32m      4\u001b[0m         \u001b[0mfp\u001b[0m\u001b[0;34m.\u001b[0m\u001b[0mwrite\u001b[0m\u001b[0;34m(\u001b[0m\u001b[0;34m\"type,text\\n\"\u001b[0m\u001b[0;34m)\u001b[0m\u001b[0;34m\u001b[0m\u001b[0;34m\u001b[0m\u001b[0m\n\u001b[1;32m      5\u001b[0m         \u001b[0mfp\u001b[0m\u001b[0;34m.\u001b[0m\u001b[0mwrite\u001b[0m\u001b[0;34m(\u001b[0m\u001b[0;34m\"default,\"\u001b[0m\u001b[0;34m+\u001b[0m\u001b[0mtext\u001b[0m\u001b[0;34m)\u001b[0m\u001b[0;34m\u001b[0m\u001b[0;34m\u001b[0m\u001b[0m\n",
      "\u001b[0;31mFileNotFoundError\u001b[0m: [Errno 2] No such file or directory: 'test_data.csv'"
     ]
    }
   ],
   "source": [
    "predict(\"so mani question when i do these thing i would take the purpl pill pick win lotteri number do whatev i wanti work in a breweri for a coupl year here i dont know if your familiar with the local microscraft at all but mill st was the name of it their tankhous is my favorit of anyth locali am go to summon the great and power mr cafebot and his song of destruct the four horseman ride count your day peopl of earth intro nick the intp male from a basementthi thread is obvious about the textbook definit of manli ruffin it tuffin it and go hard in the mother fking paintstand up for yourself you ask for the time off and it was approv when they say oh shit we are short staf where is badger they figur out you ask for it off that whi you arnt therelol excel thread nt the dc i love watch basebal and play it oh and i hate the yanke im 19 ive had multipl partner i consid myself a man man i lift and i am intp noth thing with relationship is that you spend veri littl time in the bedroom compar to everyth els so while a dumb blond can make you happi for 20 minut a night it go to take morethink a man plant a fruit tree becaus it will give him food in a few year feel a few year later a squirrel is hungri so it eat the fruit from the tree intuit the man see hiswel i think you can appreci an einstein quot everyon is a genius but if you judg a fish on it abiil to climb a tree it will live it whole life believ it is stupid everybodyvsaucer men write poetry19 64oh and mountain dew releas mountain flavor dorito loco taco skateboard that is all also check this out stillther onli two thing i am certain of with rusel brand 1 he is veri heavilli extravert 2 he is a magic manher i am peopl im gonna make a male version intp video todayth creativ process of intp is get around to do the thing and not put it off i think were alway readi for work provid we have sleep and food in our stomachsi may look busi but i hear everythingim a guy but i like make video id love to be a part of thishey man it your life do or do not there is no tryy you know your an intp when you have more convers in your head than you do with real peopletldr yes i post thisspoken like a true intpif you realli are bother and i believ you are i think you should tell your boyfriend what you just said theremor invari get me talk becaus it has philosophi but with tangabl answer other good subject includ evolut hunter gather societi polit system good movieshey b3th i read your post and my immedi reaction was that your boyfriend is flip out over someth insignific have trust issu is noth to wag a finger at but i think your idea ofi enjoy 910 of darkbarlow s post so a crush ya maybein self defens but then it not realli a crime would you kill somebodi to save 1000 peopl for million of dollars“thirti year later he could not come to ani other conclus women were indisput better than men they were gentler more affection more love and more compassion they were rarelyw realli should make a clearcut method of differenti the two intp are lazi and useless they do thing for no reason often with disastr result the basic lack the thing that make7431774318743192013 not use adblock ps ask an analyt type they will tell you they want to see less advertis not help you do it betterhahahaha this73701 this is now a mango thread chameleon skill that thing where we can mirror the moodperson of other chameleon skill make me wonder if im be true to myselffre for allw wouldnt be human without either of themwel i know 100 sure you are wrong becaus i exist but obvious i cant prove it73121th problem is in the first word of your post watch the news tv news is entertain not journalismi resent the thought that human are noth but selfish creatur when be selfless can be accomplish on a whim fulfil in life often come in the form of give to other and solfonnyyup basic this lolsuicid is a perman solut to nonperman problem selfish it will caus pain and burden to your famili for the rest of their live so not think of them could be consideredlol your a women that was easyseri a day where everi intp is on adder we would live in utopia by noonrepeat the mantra i am self awareso you reject idea that dont come from god camus declar that human are here we exist there is noth that can chang that now we have a choic 1 get piss off give up or revoltwhat in fact is the absurd man he who without negat it doe noth for the etern not that nostalgia is foreign to him but he prefer his courag and his reason the first teach himso they dont need to elbow past peopl in a hurri and potenti miss the train door close otherwis they want to be first off the trainbus and not get stuck behind a crowd of slow walker this is a load question as for me im 19 and still strong believ in nonbelief internet polic restrain from troll at onc intp iicant\")"
   ]
  },
  {
   "cell_type": "code",
   "execution_count": 21,
   "metadata": {},
   "outputs": [
    {
     "data": {
      "text/html": [
       "<div style=\"max-height:1000px;max-width:1500px;overflow:auto;\"><table frame=\"box\" rules=\"cols\">\n",
       "    <tr>\n",
       "        <th style=\"padding-left: 1em; padding-right: 1em; text-align: center\">type</th>\n",
       "        <th style=\"padding-left: 1em; padding-right: 1em; text-align: center\">text</th>\n",
       "        <th style=\"padding-left: 1em; padding-right: 1em; text-align: center\">tfidf</th>\n",
       "    </tr>\n",
       "    <tr>\n",
       "        <td style=\"padding-left: 1em; padding-right: 1em; text-align: center; vertical-align: top\">sd</td>\n",
       "        <td style=\"padding-left: 1em; padding-right: 1em; text-align: center; vertical-align: top\">sd</td>\n",
       "        <td style=\"padding-left: 1em; padding-right: 1em; text-align: center; vertical-align: top\">{&#x27;sd&#x27;: 1.0}</td>\n",
       "    </tr>\n",
       "</table>\n",
       "[1 rows x 3 columns]<br/>\n",
       "</div>"
      ],
      "text/plain": [
       "Columns:\n",
       "\ttype\tstr\n",
       "\ttext\tstr\n",
       "\ttfidf\tdict\n",
       "\n",
       "Rows: 1\n",
       "\n",
       "Data:\n",
       "+------+------+-------------+\n",
       "| type | text |    tfidf    |\n",
       "+------+------+-------------+\n",
       "|  sd  |  sd  | {'sd': 1.0} |\n",
       "+------+------+-------------+\n",
       "[1 rows x 3 columns]"
      ]
     },
     "execution_count": 21,
     "metadata": {},
     "output_type": "execute_result"
    }
   ],
   "source": [
    "sf.head()"
   ]
  },
  {
   "cell_type": "code",
   "execution_count": 22,
   "metadata": {},
   "outputs": [
    {
     "data": {
      "text/plain": [
       "{'type': 'sd', 'text': 'sd', 'tfidf': {'sd': 1.0}}"
      ]
     },
     "execution_count": 22,
     "metadata": {},
     "output_type": "execute_result"
    }
   ],
   "source": [
    "sf[-1]"
   ]
  },
  {
   "cell_type": "code",
   "execution_count": null,
   "metadata": {},
   "outputs": [],
   "source": []
  }
 ],
 "metadata": {
  "kernelspec": {
   "display_name": "Python 3",
   "language": "python",
   "name": "python3"
  },
  "language_info": {
   "codemirror_mode": {
    "name": "ipython",
    "version": 3
   },
   "file_extension": ".py",
   "mimetype": "text/x-python",
   "name": "python",
   "nbconvert_exporter": "python",
   "pygments_lexer": "ipython3",
   "version": "3.6.9"
  }
 },
 "nbformat": 4,
 "nbformat_minor": 4
}
