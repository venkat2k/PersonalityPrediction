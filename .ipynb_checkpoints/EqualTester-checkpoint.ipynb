{
 "cells": [
  {
   "cell_type": "code",
   "execution_count": 20,
   "metadata": {},
   "outputs": [],
   "source": [
    "import turicreate\n",
    "import csv\n",
    "import random"
   ]
  },
  {
   "cell_type": "code",
   "execution_count": 21,
   "metadata": {},
   "outputs": [],
   "source": [
    "data_req = {'ISFJ': 2100, 'ESFJ': 1830, 'ISTJ': 1750, 'ISFP': 1320, \"ESTJ\": 1310, \"ESFP\": 1280, \"ENFP\": 1220, \"ISTP\": 810, \"INFP\": 660, \"ESTP\": 650, \"INTP\": 500, \"ENTP\": 480, \"ENFJ\": 375, \"INTJ\": 320, \"ENTJ\": 270, \"INFJ\": 225}"
   ]
  },
  {
   "cell_type": "code",
   "execution_count": 22,
   "metadata": {},
   "outputs": [],
   "source": [
    "d = data_req\n",
    "fields = []\n",
    "rows = []\n",
    "with open(\"data/dataset_with_split_posts.csv\", 'r') as csvfile:\n",
    "    csvreader = csv.reader(csvfile)\n",
    "    fields = next(csvreader)\n",
    "    for row in csvreader:\n",
    "        if d[row[0]] > 0:\n",
    "            rows.append(row)\n",
    "            d[row[0]] -= 1\n",
    "random.shuffle(rows)"
   ]
  },
  {
   "cell_type": "code",
   "execution_count": 23,
   "metadata": {},
   "outputs": [],
   "source": [
    "d = data_req\n",
    "with open(\"new_data/IEdataset.csv\", \"w\") as csvfile:\n",
    "    csvwriter = csv.writer(csvfile)\n",
    "    csvwriter.writerow(fields)\n",
    "    for row in rows:\n",
    "        csvwriter.writerow([row[0][0], row[1]])"
   ]
  },
  {
   "cell_type": "code",
   "execution_count": 24,
   "metadata": {},
   "outputs": [
    {
     "data": {
      "text/plain": [
       "15072"
      ]
     },
     "execution_count": 24,
     "metadata": {},
     "output_type": "execute_result"
    }
   ],
   "source": [
    "len(rows)"
   ]
  },
  {
   "cell_type": "code",
   "execution_count": 25,
   "metadata": {},
   "outputs": [],
   "source": [
    "d = data_req\n",
    "with open(\"new_data/NSdataset.csv\", \"w\") as csvfile:\n",
    "    csvwriter = csv.writer(csvfile)\n",
    "    csvwriter.writerow(fields)\n",
    "    for row in rows:\n",
    "        csvwriter.writerow([row[0][1], row[1]])"
   ]
  },
  {
   "cell_type": "code",
   "execution_count": 26,
   "metadata": {},
   "outputs": [
    {
     "data": {
      "text/plain": [
       "{'ISFJ': 0,\n",
       " 'ESFJ': 28,\n",
       " 'ISTJ': 0,\n",
       " 'ISFP': 0,\n",
       " 'ESTJ': 0,\n",
       " 'ESFP': 0,\n",
       " 'ENFP': 0,\n",
       " 'ISTP': 0,\n",
       " 'INFP': 0,\n",
       " 'ESTP': 0,\n",
       " 'INTP': 0,\n",
       " 'ENTP': 0,\n",
       " 'ENFJ': 0,\n",
       " 'INTJ': 0,\n",
       " 'ENTJ': 0,\n",
       " 'INFJ': 0}"
      ]
     },
     "execution_count": 26,
     "metadata": {},
     "output_type": "execute_result"
    }
   ],
   "source": [
    "d"
   ]
  },
  {
   "cell_type": "code",
   "execution_count": 27,
   "metadata": {},
   "outputs": [],
   "source": [
    "d = data_req\n",
    "with open(\"new_data/TFdataset.csv\", \"w\") as csvfile:\n",
    "    csvwriter = csv.writer(csvfile)\n",
    "    csvwriter.writerow(fields)\n",
    "    for row in rows:\n",
    "        csvwriter.writerow([row[0][2], row[1]])"
   ]
  },
  {
   "cell_type": "code",
   "execution_count": 14,
   "metadata": {},
   "outputs": [
    {
     "data": {
      "text/plain": [
       "{'T': 3981, 'F': 4000}"
      ]
     },
     "execution_count": 14,
     "metadata": {},
     "output_type": "execute_result"
    }
   ],
   "source": [
    "d"
   ]
  },
  {
   "cell_type": "code",
   "execution_count": 28,
   "metadata": {},
   "outputs": [],
   "source": [
    "d = data_req\n",
    "with open(\"new_data/JPdataset.csv\", \"w\") as csvfile:\n",
    "    csvwriter = csv.writer(csvfile)\n",
    "    csvwriter.writerow(fields)\n",
    "    for row in rows:\n",
    "        csvwriter.writerow([row[0][3], row[1]])"
   ]
  },
  {
   "cell_type": "code",
   "execution_count": 17,
   "metadata": {},
   "outputs": [
    {
     "data": {
      "text/plain": [
       "{'P': 3500, 'J': 3434}"
      ]
     },
     "execution_count": 17,
     "metadata": {},
     "output_type": "execute_result"
    }
   ],
   "source": [
    "d"
   ]
  },
  {
   "cell_type": "code",
   "execution_count": null,
   "metadata": {},
   "outputs": [],
   "source": []
  },
  {
   "cell_type": "code",
   "execution_count": null,
   "metadata": {},
   "outputs": [],
   "source": []
  },
  {
   "cell_type": "code",
   "execution_count": 59,
   "metadata": {},
   "outputs": [
    {
     "data": {
      "text/plain": [
       "{'INFJ': 63920,\n",
       " 'ENTP': 29647,\n",
       " 'INTP': 55738,\n",
       " 'INTJ': 46247,\n",
       " 'ENTJ': 9959,\n",
       " 'ENFJ': 8327,\n",
       " 'INFP': 78233,\n",
       " 'ENFP': 29280,\n",
       " 'ISFP': 10962,\n",
       " 'ISTP': 14151,\n",
       " 'ISFJ': 7064,\n",
       " 'ISTJ': 8674,\n",
       " 'ESTP': 3743,\n",
       " 'ESFP': 1841,\n",
       " 'ESTJ': 1694,\n",
       " 'ESFJ': 1838}"
      ]
     },
     "execution_count": 59,
     "metadata": {},
     "output_type": "execute_result"
    }
   ],
   "source": [
    "cat_count"
   ]
  },
  {
   "cell_type": "code",
   "execution_count": 2,
   "metadata": {},
   "outputs": [],
   "source": [
    "dis = {'ISFJ': 13.8, 'ESFJ': 12.3, 'ISTJ': 11.6, 'ISFP': 8.8, \"ESTJ\": 8.7, \"ESFP\": 8.5, \"ENFP\": 8.1, \"ISTP\": 5.4, \"INFP\": 4.4, \"ESTP\": 4.3, \"INTP\": 3.3, \"ENTP\": 3.2, \"ENFJ\": 2.5, \"INTJ\": 2.1, \"ENTJ\": 1.8, \"INFJ\": 1.5}"
   ]
  },
  {
   "cell_type": "code",
   "execution_count": 3,
   "metadata": {},
   "outputs": [
    {
     "data": {
      "text/plain": [
       "{'ISFJ': 13.8,\n",
       " 'ESFJ': 12.3,\n",
       " 'ISTJ': 11.6,\n",
       " 'ISFP': 8.8,\n",
       " 'ESTJ': 8.7,\n",
       " 'ESFP': 8.5,\n",
       " 'ENFP': 8.1,\n",
       " 'ISTP': 5.4,\n",
       " 'INFP': 4.4,\n",
       " 'ESTP': 4.3,\n",
       " 'INTP': 3.3,\n",
       " 'ENTP': 3.2,\n",
       " 'ENFJ': 2.5,\n",
       " 'INTJ': 2.1,\n",
       " 'ENTJ': 1.8,\n",
       " 'INFJ': 1.5}"
      ]
     },
     "execution_count": 3,
     "metadata": {},
     "output_type": "execute_result"
    }
   ],
   "source": [
    "dis"
   ]
  },
  {
   "cell_type": "code",
   "execution_count": 61,
   "metadata": {},
   "outputs": [],
   "source": [
    "l = 0; r = 370000; ans = -1"
   ]
  },
  {
   "cell_type": "code",
   "execution_count": 62,
   "metadata": {},
   "outputs": [],
   "source": [
    "def check(total):\n",
    "#     print(cat_count, dis)\n",
    "    for key, value in cat_count.items():\n",
    "        if total * (dis[key] / 100) > value:\n",
    "#             print(total, dis[key], key, value)\n",
    "            return False\n",
    "    return True"
   ]
  },
  {
   "cell_type": "code",
   "execution_count": 63,
   "metadata": {},
   "outputs": [
    {
     "name": "stdout",
     "output_type": "stream",
     "text": [
      "185000\n",
      "92499\n",
      "46249\n",
      "23124\n",
      "11561\n",
      "17342\n",
      "14451\n",
      "15896\n",
      "15173\n",
      "14812\n",
      "14992\n",
      "14902\n",
      "14947\n",
      "14924\n",
      "14935\n",
      "14941\n",
      "14944\n",
      "14942\n",
      "14943\n"
     ]
    }
   ],
   "source": [
    "while l <= r:\n",
    "    mid = (l + r) // 2\n",
    "    print(mid)\n",
    "    if check(mid):\n",
    "        ans = mid\n",
    "        l = mid + 1\n",
    "    else:\n",
    "        r = mid - 1"
   ]
  },
  {
   "cell_type": "code",
   "execution_count": 64,
   "metadata": {},
   "outputs": [
    {
     "data": {
      "text/plain": [
       "14943"
      ]
     },
     "execution_count": 64,
     "metadata": {},
     "output_type": "execute_result"
    }
   ],
   "source": [
    "ans"
   ]
  },
  {
   "cell_type": "code",
   "execution_count": 65,
   "metadata": {},
   "outputs": [],
   "source": [
    "data_req = {'ISFJ': 2100, 'ESFJ': 1875, 'ISTJ': 1750, 'ISFP': 1320, \"ESTJ\": 1310, \"ESFP\": 1280, \"ENFP\": 1220, \"ISTP\": 810, \"INFP\": 660, \"ESTP\": 650, \"INTP\": 500, \"ENTP\": 480, \"ENFJ\": 375, \"INTJ\": 320, \"ENTJ\": 270, \"INFJ\": 225}"
   ]
  },
  {
   "cell_type": "code",
   "execution_count": null,
   "metadata": {},
   "outputs": [],
   "source": []
  }
 ],
 "metadata": {
  "kernelspec": {
   "display_name": "Python 3",
   "language": "python",
   "name": "python3"
  },
  "language_info": {
   "codemirror_mode": {
    "name": "ipython",
    "version": 3
   },
   "file_extension": ".py",
   "mimetype": "text/x-python",
   "name": "python",
   "nbconvert_exporter": "python",
   "pygments_lexer": "ipython3",
   "version": "3.6.9"
  }
 },
 "nbformat": 4,
 "nbformat_minor": 4
}
