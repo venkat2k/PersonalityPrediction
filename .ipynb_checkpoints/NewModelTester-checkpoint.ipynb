{
 "cells": [
  {
   "cell_type": "code",
   "execution_count": 1,
   "metadata": {},
   "outputs": [],
   "source": [
    "import turicreate\n",
    "import csv\n",
    "import random"
   ]
  },
  {
   "cell_type": "code",
   "execution_count": 20,
   "metadata": {},
   "outputs": [],
   "source": [
    "d = {}\n",
    "fields = []\n",
    "rows = []\n",
    "with open(\"data/dataset_after_stemming.csv\", 'r') as csvfile:\n",
    "    csvreader = csv.reader(csvfile)\n",
    "    fields = next(csvreader)\n",
    "    for row in csvreader:\n",
    "        if row[0] in d:\n",
    "            d[row[0]] += 1\n",
    "        else: \n",
    "            d[row[0]] = 1\n",
    "        rows.append(row)\n",
    "random.shuffle(rows)"
   ]
  },
  {
   "cell_type": "code",
   "execution_count": 22,
   "metadata": {},
   "outputs": [],
   "source": [
    "cat_count = d"
   ]
  },
  {
   "cell_type": "code",
   "execution_count": 7,
   "metadata": {},
   "outputs": [],
   "source": [
    "d = {}\n",
    "with open(\"data/IEdataset.csv\", \"w\") as csvfile:\n",
    "    csvwriter = csv.writer(csvfile)\n",
    "    csvwriter.writerow(fields)\n",
    "    for row in rows:\n",
    "        row[0] = row[0][0]\n",
    "        if row[0] not in d:\n",
    "            d[row[0]] = 1\n",
    "            csvwriter.writerow(row)\n",
    "        elif d[row[0]] < 2000:\n",
    "            d[row[0]] += 1\n",
    "            csvwriter.writerow(row)"
   ]
  },
  {
   "cell_type": "code",
   "execution_count": 8,
   "metadata": {},
   "outputs": [
    {
     "data": {
      "text/plain": [
       "{'I': 2000, 'E': 1999}"
      ]
     },
     "execution_count": 8,
     "metadata": {},
     "output_type": "execute_result"
    }
   ],
   "source": [
    "d"
   ]
  },
  {
   "cell_type": "code",
   "execution_count": 10,
   "metadata": {},
   "outputs": [],
   "source": [
    "d = {}\n",
    "with open(\"data/NSdataset.csv\", \"w\") as csvfile:\n",
    "    csvwriter = csv.writer(csvfile)\n",
    "    csvwriter.writerow(fields)\n",
    "    for row in rows:\n",
    "        row[0] = row[0][1]\n",
    "        if row[0] not in d:\n",
    "            d[row[0]] = 1\n",
    "            csvwriter.writerow(row)\n",
    "        elif d[row[0]] < 1200:\n",
    "            d[row[0]] += 1\n",
    "            csvwriter.writerow(row)"
   ]
  },
  {
   "cell_type": "code",
   "execution_count": 11,
   "metadata": {},
   "outputs": [
    {
     "data": {
      "text/plain": [
       "{'N': 1200, 'S': 1197}"
      ]
     },
     "execution_count": 11,
     "metadata": {},
     "output_type": "execute_result"
    }
   ],
   "source": [
    "d"
   ]
  },
  {
   "cell_type": "code",
   "execution_count": 13,
   "metadata": {},
   "outputs": [],
   "source": [
    "d = {}\n",
    "with open(\"data/TFdataset.csv\", \"w\") as csvfile:\n",
    "    csvwriter = csv.writer(csvfile)\n",
    "    csvwriter.writerow(fields)\n",
    "    for row in rows:\n",
    "        row[0] = row[0][2]\n",
    "        if row[0] not in d:\n",
    "            d[row[0]] = 1\n",
    "            csvwriter.writerow(row)\n",
    "        elif d[row[0]] < 4000:\n",
    "            d[row[0]] += 1\n",
    "            csvwriter.writerow(row)"
   ]
  },
  {
   "cell_type": "code",
   "execution_count": 14,
   "metadata": {},
   "outputs": [
    {
     "data": {
      "text/plain": [
       "{'T': 3981, 'F': 4000}"
      ]
     },
     "execution_count": 14,
     "metadata": {},
     "output_type": "execute_result"
    }
   ],
   "source": [
    "d"
   ]
  },
  {
   "cell_type": "code",
   "execution_count": 16,
   "metadata": {},
   "outputs": [],
   "source": [
    "d = {}\n",
    "with open(\"data/JPdataset.csv\", \"w\") as csvfile:\n",
    "    csvwriter = csv.writer(csvfile)\n",
    "    csvwriter.writerow(fields)\n",
    "    for row in rows:\n",
    "        row[0] = row[0][3]\n",
    "        if row[0] not in d:\n",
    "            d[row[0]] = 1\n",
    "            csvwriter.writerow(row)\n",
    "        elif d[row[0]] < 3500:\n",
    "            d[row[0]] += 1\n",
    "            csvwriter.writerow(row)"
   ]
  },
  {
   "cell_type": "code",
   "execution_count": 17,
   "metadata": {},
   "outputs": [
    {
     "data": {
      "text/plain": [
       "{'P': 3500, 'J': 3434}"
      ]
     },
     "execution_count": 17,
     "metadata": {},
     "output_type": "execute_result"
    }
   ],
   "source": [
    "d"
   ]
  },
  {
   "cell_type": "code",
   "execution_count": null,
   "metadata": {},
   "outputs": [],
   "source": []
  },
  {
   "cell_type": "code",
   "execution_count": null,
   "metadata": {},
   "outputs": [],
   "source": []
  },
  {
   "cell_type": "code",
   "execution_count": 23,
   "metadata": {},
   "outputs": [
    {
     "data": {
      "text/plain": [
       "{'INFJ': 1470,\n",
       " 'ENTP': 685,\n",
       " 'INTP': 1304,\n",
       " 'INTJ': 1091,\n",
       " 'ENTJ': 231,\n",
       " 'ENFJ': 190,\n",
       " 'INFP': 1832,\n",
       " 'ENFP': 675,\n",
       " 'ISFP': 271,\n",
       " 'ISTP': 337,\n",
       " 'ISFJ': 166,\n",
       " 'ISTJ': 205,\n",
       " 'ESTP': 89,\n",
       " 'ESFP': 48,\n",
       " 'ESTJ': 39,\n",
       " 'ESFJ': 42}"
      ]
     },
     "execution_count": 23,
     "metadata": {},
     "output_type": "execute_result"
    }
   ],
   "source": [
    "cat_count"
   ]
  },
  {
   "cell_type": "code",
   "execution_count": 24,
   "metadata": {},
   "outputs": [],
   "source": [
    "dis = {'ISFJ': 13.8, 'ESFJ': 12.3, 'ISTJ': 11.6, 'ISFP': 8.8, \"ESTJ\": 8.7, \"ESFP\": 8.5, \"ENFP\": 8.1, \"ISTP\": 5.4, \"INFP\": 4.4, \"ESTP\": 4.3, \"INTP\": 3.3, \"ENTP\": 3.2, \"ENFJ\": 2.5, \"INTJ\": 2.1, \"ENTJ\": 1.8, \"INFJ\": 1.5}"
   ]
  },
  {
   "cell_type": "code",
   "execution_count": 48,
   "metadata": {},
   "outputs": [],
   "source": [
    "l = 0; r = 8000; ans = -1"
   ]
  },
  {
   "cell_type": "code",
   "execution_count": 49,
   "metadata": {},
   "outputs": [],
   "source": [
    "def check(total):\n",
    "#     print(cat_count, dis)\n",
    "    for key, value in cat_count.items():\n",
    "        if total * (dis[key] / 100) > value:\n",
    "#             print(total, dis[key], key, value)\n",
    "            return False\n",
    "    return True"
   ]
  },
  {
   "cell_type": "code",
   "execution_count": 50,
   "metadata": {},
   "outputs": [
    {
     "name": "stdout",
     "output_type": "stream",
     "text": [
      "4000\n",
      "4000 1.5 INFJ 1470\n",
      "1999\n",
      "1999 1.5 INFJ 1470\n",
      "999\n",
      "999 1.5 INFJ 1470\n",
      "499\n",
      "499 1.5 INFJ 1470\n",
      "249\n",
      "249 1.5 INFJ 1470\n",
      "124\n",
      "124 1.5 INFJ 1470\n",
      "61\n",
      "61 1.5 INFJ 1470\n",
      "30\n",
      "30 1.5 INFJ 1470\n",
      "14\n",
      "14 1.5 INFJ 1470\n",
      "6\n",
      "6 1.5 INFJ 1470\n",
      "2\n",
      "2 1.5 INFJ 1470\n",
      "0\n",
      "0 1.5 INFJ 1470\n"
     ]
    }
   ],
   "source": [
    "while l <= r:\n",
    "    mid = (l + r) // 2\n",
    "    print(mid)\n",
    "    if check(mid):\n",
    "        ans = mid\n",
    "        l = mid + 1\n",
    "    else:\n",
    "        r = mid - 1"
   ]
  },
  {
   "cell_type": "code",
   "execution_count": 43,
   "metadata": {},
   "outputs": [
    {
     "data": {
      "text/plain": [
       "-1"
      ]
     },
     "execution_count": 43,
     "metadata": {},
     "output_type": "execute_result"
    }
   ],
   "source": [
    "ans"
   ]
  },
  {
   "cell_type": "code",
   "execution_count": null,
   "metadata": {},
   "outputs": [],
   "source": []
  }
 ],
 "metadata": {
  "kernelspec": {
   "display_name": "Python 3",
   "language": "python",
   "name": "python3"
  },
  "language_info": {
   "codemirror_mode": {
    "name": "ipython",
    "version": 3
   },
   "file_extension": ".py",
   "mimetype": "text/x-python",
   "name": "python",
   "nbconvert_exporter": "python",
   "pygments_lexer": "ipython3",
   "version": "3.6.9"
  }
 },
 "nbformat": 4,
 "nbformat_minor": 4
}
