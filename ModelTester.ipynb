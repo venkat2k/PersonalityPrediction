{
 "cells": [
  {
   "cell_type": "code",
   "execution_count": 2,
   "metadata": {},
   "outputs": [],
   "source": [
    "import turicreate\n",
    "import re, string\n",
    "from nltk.corpus import stopwords\n",
    "from nltk.stem.snowball import SnowballStemmer"
   ]
  },
  {
   "cell_type": "code",
   "execution_count": 3,
   "metadata": {},
   "outputs": [],
   "source": [
    "personality_model = turicreate.load_model(\"personality_model/\")"
   ]
  },
  {
   "cell_type": "code",
   "execution_count": 4,
   "metadata": {},
   "outputs": [],
   "source": [
    "stemmer = SnowballStemmer(\"english\")"
   ]
  },
  {
   "cell_type": "code",
   "execution_count": 5,
   "metadata": {},
   "outputs": [],
   "source": [
    "def clean_data(text):\n",
    "    text = text.lower()\n",
    "    text = re.sub(r'http\\S+', '', text)\n",
    "    chars = re.escape(string.punctuation)\n",
    "    text = re.sub(r'['+chars+']', '', text)\n",
    "    words = text.split()\n",
    "    clean_text = \"\"\n",
    "    for word in words:\n",
    "        clean_text += stemmer.stem(word) + \" \";\n",
    "    return clean_text"
   ]
  },
  {
   "cell_type": "code",
   "execution_count": 37,
   "metadata": {},
   "outputs": [],
   "source": [
    "def predict(text):\n",
    "    text = clean_data(text)\n",
    "    with open(\"testset.csv\", \"w\") as fp:\n",
    "        fp.write(\"type,text\\n\")\n",
    "        fp.write(\"default,\"+text)\n",
    "    sf = turicreate.SFrame(\"testset.csv\")\n",
    "    sf[\"tfidf\"] = turicreate.text_analytics.count_words(sf[\"text\"])\n",
    "    result = personality_model.predict(sf[0])\n",
    "    return result"
   ]
  },
  {
   "cell_type": "code",
   "execution_count": 40,
   "metadata": {},
   "outputs": [
    {
     "data": {
      "text/html": [
       "<pre>Finished parsing file /mnt/c/users/user/desktop/PersonalityPrediction/testset.csv</pre>"
      ],
      "text/plain": [
       "Finished parsing file /mnt/c/users/user/desktop/PersonalityPrediction/testset.csv"
      ]
     },
     "metadata": {},
     "output_type": "display_data"
    },
    {
     "data": {
      "text/html": [
       "<pre>Parsing completed. Parsed 1 lines in 0.071895 secs.</pre>"
      ],
      "text/plain": [
       "Parsing completed. Parsed 1 lines in 0.071895 secs."
      ]
     },
     "metadata": {},
     "output_type": "display_data"
    },
    {
     "name": "stdout",
     "output_type": "stream",
     "text": [
      "------------------------------------------------------\n",
      "Inferred types from first 100 line(s) of file as \n",
      "column_type_hints=[str,str]\n",
      "If parsing fails due to incorrect types, you can correct\n",
      "the inferred type list above and pass it to read_csv in\n",
      "the column_type_hints argument\n",
      "------------------------------------------------------\n"
     ]
    },
    {
     "data": {
      "text/html": [
       "<pre>Finished parsing file /mnt/c/users/user/desktop/PersonalityPrediction/testset.csv</pre>"
      ],
      "text/plain": [
       "Finished parsing file /mnt/c/users/user/desktop/PersonalityPrediction/testset.csv"
      ]
     },
     "metadata": {},
     "output_type": "display_data"
    },
    {
     "data": {
      "text/html": [
       "<pre>Parsing completed. Parsed 1 lines in 0.06875 secs.</pre>"
      ],
      "text/plain": [
       "Parsing completed. Parsed 1 lines in 0.06875 secs."
      ]
     },
     "metadata": {},
     "output_type": "display_data"
    },
    {
     "name": "stdout",
     "output_type": "stream",
     "text": [
      "{'type': 'default', 'text': \"wait facebook silenc leftist liber voic and gave prioriti to conserv one no waaaayyyyyyyi i have 500k follow on a fb page that hasn't been touch in near 2 year becaus fb destroy it so mani ppl were laid off becaus of this\", 'tfidf': {'of': 1.0, 'off': 1.0, 'laid': 1.0, 'mani': 1.0, 'year': 1.0, 'near': 1.0, 'destroy': 1.0, 'in': 1.0, 'been': 1.0, 'hasn': 1.0, 'to': 1.0, 'were': 1.0, 'that': 1.0, 'facebook': 1.0, 'gave': 1.0, 'wait': 1.0, 'follow': 1.0, 'so': 1.0, 'fb': 2.0, '2': 1.0, 't': 1.0, 'voic': 1.0, 'have': 1.0, 'ppl': 1.0, 'prioriti': 1.0, 'conserv': 1.0, 'this': 1.0, 'it': 1.0, 'liber': 1.0, 'becaus': 2.0, 'one': 1.0, 'touch': 1.0, 'i': 1.0, 'and': 1.0, 'page': 1.0, 'leftist': 1.0, 'silenc': 1.0, 'on': 1.0, 'no': 1.0, 'waaaayyyyyyyi': 1.0, '500k': 1.0, 'a': 1.0}}\n"
     ]
    },
    {
     "data": {
      "text/plain": [
       "dtype: str\n",
       "Rows: 1\n",
       "['INFP']"
      ]
     },
     "execution_count": 40,
     "metadata": {},
     "output_type": "execute_result"
    }
   ],
   "source": [
    "predict(\"wait facebook silenced leftist / liberal voices and gave priority to conservative ones? no waaaayyyyyyyy- i have 500k followers on a fb page that hasn’t been touched in nearly 2 years because fb destroyed it. so many ppl were laid off because of this.\")"
   ]
  },
  {
   "cell_type": "code",
   "execution_count": null,
   "metadata": {},
   "outputs": [],
   "source": []
  }
 ],
 "metadata": {
  "kernelspec": {
   "display_name": "Python 3",
   "language": "python",
   "name": "python3"
  },
  "language_info": {
   "codemirror_mode": {
    "name": "ipython",
    "version": 3
   },
   "file_extension": ".py",
   "mimetype": "text/x-python",
   "name": "python",
   "nbconvert_exporter": "python",
   "pygments_lexer": "ipython3",
   "version": "3.6.9"
  }
 },
 "nbformat": 4,
 "nbformat_minor": 4
}
