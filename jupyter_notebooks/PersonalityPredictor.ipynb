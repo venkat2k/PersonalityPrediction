{
 "cells": [
  {
   "cell_type": "code",
   "execution_count": 1,
   "metadata": {},
   "outputs": [],
   "source": [
    "import turicreate"
   ]
  },
  {
   "cell_type": "code",
   "execution_count": 2,
   "metadata": {},
   "outputs": [
    {
     "data": {
      "text/html": [
       "<pre>Finished parsing file /mnt/c/users/user/desktop/PersonalityPrediction/dataset_after_stemming.csv</pre>"
      ],
      "text/plain": [
       "Finished parsing file /mnt/c/users/user/desktop/PersonalityPrediction/dataset_after_stemming.csv"
      ]
     },
     "metadata": {},
     "output_type": "display_data"
    },
    {
     "data": {
      "text/html": [
       "<pre>Parsing completed. Parsed 100 lines in 0.698696 secs.</pre>"
      ],
      "text/plain": [
       "Parsing completed. Parsed 100 lines in 0.698696 secs."
      ]
     },
     "metadata": {},
     "output_type": "display_data"
    },
    {
     "name": "stdout",
     "output_type": "stream",
     "text": [
      "------------------------------------------------------\n",
      "Inferred types from first 100 line(s) of file as \n",
      "column_type_hints=[str,str]\n",
      "If parsing fails due to incorrect types, you can correct\n",
      "the inferred type list above and pass it to read_csv in\n",
      "the column_type_hints argument\n",
      "------------------------------------------------------\n"
     ]
    },
    {
     "data": {
      "text/html": [
       "<pre>Read 8674 lines. Lines per second: 13741.1</pre>"
      ],
      "text/plain": [
       "Read 8674 lines. Lines per second: 13741.1"
      ]
     },
     "metadata": {},
     "output_type": "display_data"
    },
    {
     "data": {
      "text/html": [
       "<pre>Finished parsing file /mnt/c/users/user/desktop/PersonalityPrediction/dataset_after_stemming.csv</pre>"
      ],
      "text/plain": [
       "Finished parsing file /mnt/c/users/user/desktop/PersonalityPrediction/dataset_after_stemming.csv"
      ]
     },
     "metadata": {},
     "output_type": "display_data"
    },
    {
     "data": {
      "text/html": [
       "<pre>Parsing completed. Parsed 8675 lines in 0.638069 secs.</pre>"
      ],
      "text/plain": [
       "Parsing completed. Parsed 8675 lines in 0.638069 secs."
      ]
     },
     "metadata": {},
     "output_type": "display_data"
    }
   ],
   "source": [
    "posts = turicreate.SFrame(\"dataset_after_stemming.csv\")"
   ]
  },
  {
   "cell_type": "code",
   "execution_count": 3,
   "metadata": {},
   "outputs": [
    {
     "data": {
      "text/html": [
       "<div style=\"max-height:1000px;max-width:1500px;overflow:auto;\"><table frame=\"box\" rules=\"cols\">\n",
       "    <tr>\n",
       "        <th style=\"padding-left: 1em; padding-right: 1em; text-align: center\">type</th>\n",
       "        <th style=\"padding-left: 1em; padding-right: 1em; text-align: center\">text</th>\n",
       "    </tr>\n",
       "    <tr>\n",
       "        <td style=\"padding-left: 1em; padding-right: 1em; text-align: center; vertical-align: top\">INFJ</td>\n",
       "        <td style=\"padding-left: 1em; padding-right: 1em; text-align: center; vertical-align: top\">and intj moment<br>sportscent not top ten ...</td>\n",
       "    </tr>\n",
       "    <tr>\n",
       "        <td style=\"padding-left: 1em; padding-right: 1em; text-align: center; vertical-align: top\">ENTP</td>\n",
       "        <td style=\"padding-left: 1em; padding-right: 1em; text-align: center; vertical-align: top\">im find the lack of me in<br>these post veri ...</td>\n",
       "    </tr>\n",
       "    <tr>\n",
       "        <td style=\"padding-left: 1em; padding-right: 1em; text-align: center; vertical-align: top\">INTP</td>\n",
       "        <td style=\"padding-left: 1em; padding-right: 1em; text-align: center; vertical-align: top\">good one cours to which i<br>say i know that my bless ...</td>\n",
       "    </tr>\n",
       "    <tr>\n",
       "        <td style=\"padding-left: 1em; padding-right: 1em; text-align: center; vertical-align: top\">INTJ</td>\n",
       "        <td style=\"padding-left: 1em; padding-right: 1em; text-align: center; vertical-align: top\">dear intp i enjoy our<br>convers the other day ...</td>\n",
       "    </tr>\n",
       "    <tr>\n",
       "        <td style=\"padding-left: 1em; padding-right: 1em; text-align: center; vertical-align: top\">ENTJ</td>\n",
       "        <td style=\"padding-left: 1em; padding-right: 1em; text-align: center; vertical-align: top\">your firedthat anoth<br>silli misconcept that ...</td>\n",
       "    </tr>\n",
       "    <tr>\n",
       "        <td style=\"padding-left: 1em; padding-right: 1em; text-align: center; vertical-align: top\">INTJ</td>\n",
       "        <td style=\"padding-left: 1em; padding-right: 1em; text-align: center; vertical-align: top\">1837 scienc is not<br>perfect no scientist ...</td>\n",
       "    </tr>\n",
       "    <tr>\n",
       "        <td style=\"padding-left: 1em; padding-right: 1em; text-align: center; vertical-align: top\">INFJ</td>\n",
       "        <td style=\"padding-left: 1em; padding-right: 1em; text-align: center; vertical-align: top\">no i cant draw on my own<br>nail haha those were  ...</td>\n",
       "    </tr>\n",
       "    <tr>\n",
       "        <td style=\"padding-left: 1em; padding-right: 1em; text-align: center; vertical-align: top\">INTJ</td>\n",
       "        <td style=\"padding-left: 1em; padding-right: 1em; text-align: center; vertical-align: top\">i tend to build up a<br>collect of thing on my ...</td>\n",
       "    </tr>\n",
       "    <tr>\n",
       "        <td style=\"padding-left: 1em; padding-right: 1em; text-align: center; vertical-align: top\">INFJ</td>\n",
       "        <td style=\"padding-left: 1em; padding-right: 1em; text-align: center; vertical-align: top\">im not sure that a good<br>question the distinct ...</td>\n",
       "    </tr>\n",
       "    <tr>\n",
       "        <td style=\"padding-left: 1em; padding-right: 1em; text-align: center; vertical-align: top\">INTP</td>\n",
       "        <td style=\"padding-left: 1em; padding-right: 1em; text-align: center; vertical-align: top\">in this posit where i<br>have to actual let go of ...</td>\n",
       "    </tr>\n",
       "</table>\n",
       "[10 rows x 2 columns]<br/>\n",
       "</div>"
      ],
      "text/plain": [
       "Columns:\n",
       "\ttype\tstr\n",
       "\ttext\tstr\n",
       "\n",
       "Rows: 10\n",
       "\n",
       "Data:\n",
       "+------+-------------------------------+\n",
       "| type |              text             |\n",
       "+------+-------------------------------+\n",
       "| INFJ | and intj moment sportscent... |\n",
       "| ENTP | im find the lack of me in ... |\n",
       "| INTP | good one cours to which i ... |\n",
       "| INTJ | dear intp i enjoy our conv... |\n",
       "| ENTJ | your firedthat anoth silli... |\n",
       "| INTJ | 1837 scienc is not perfect... |\n",
       "| INFJ | no i cant draw on my own n... |\n",
       "| INTJ | i tend to build up a colle... |\n",
       "| INFJ | im not sure that a good qu... |\n",
       "| INTP | in this posit where i have... |\n",
       "+------+-------------------------------+\n",
       "[10 rows x 2 columns]"
      ]
     },
     "execution_count": 3,
     "metadata": {},
     "output_type": "execute_result"
    }
   ],
   "source": [
    "posts.head()"
   ]
  },
  {
   "cell_type": "code",
   "execution_count": 4,
   "metadata": {},
   "outputs": [],
   "source": [
    "posts[\"tfidf\"] = turicreate.text_analytics.tf_idf(posts[\"text\"])"
   ]
  },
  {
   "cell_type": "code",
   "execution_count": 5,
   "metadata": {},
   "outputs": [
    {
     "data": {
      "text/html": [
       "<div style=\"max-height:1000px;max-width:1500px;overflow:auto;\"><table frame=\"box\" rules=\"cols\">\n",
       "    <tr>\n",
       "        <th style=\"padding-left: 1em; padding-right: 1em; text-align: center\">type</th>\n",
       "        <th style=\"padding-left: 1em; padding-right: 1em; text-align: center\">text</th>\n",
       "        <th style=\"padding-left: 1em; padding-right: 1em; text-align: center\">tfidf</th>\n",
       "    </tr>\n",
       "    <tr>\n",
       "        <td style=\"padding-left: 1em; padding-right: 1em; text-align: center; vertical-align: top\">INFJ</td>\n",
       "        <td style=\"padding-left: 1em; padding-right: 1em; text-align: center; vertical-align: top\">and intj moment<br>sportscent not top ten ...</td>\n",
       "        <td style=\"padding-left: 1em; padding-right: 1em; text-align: center; vertical-align: top\">{&#x27;start&#x27;:<br>0.48054894975026113, ...</td>\n",
       "    </tr>\n",
       "    <tr>\n",
       "        <td style=\"padding-left: 1em; padding-right: 1em; text-align: center; vertical-align: top\">ENTP</td>\n",
       "        <td style=\"padding-left: 1em; padding-right: 1em; text-align: center; vertical-align: top\">im find the lack of me in<br>these post veri ...</td>\n",
       "        <td style=\"padding-left: 1em; padding-right: 1em; text-align: center; vertical-align: top\">{&#x27;other&#x27;:<br>0.0995497014401853, ...</td>\n",
       "    </tr>\n",
       "    <tr>\n",
       "        <td style=\"padding-left: 1em; padding-right: 1em; text-align: center; vertical-align: top\">INTP</td>\n",
       "        <td style=\"padding-left: 1em; padding-right: 1em; text-align: center; vertical-align: top\">good one cours to which i<br>say i know that my bless ...</td>\n",
       "        <td style=\"padding-left: 1em; padding-right: 1em; text-align: center; vertical-align: top\">{&#x27;221226218106istp&#x27;:<br>9.06820060481506, ...</td>\n",
       "    </tr>\n",
       "    <tr>\n",
       "        <td style=\"padding-left: 1em; padding-right: 1em; text-align: center; vertical-align: top\">INTJ</td>\n",
       "        <td style=\"padding-left: 1em; padding-right: 1em; text-align: center; vertical-align: top\">dear intp i enjoy our<br>convers the other day ...</td>\n",
       "        <td style=\"padding-left: 1em; padding-right: 1em; text-align: center; vertical-align: top\">{&#x27;they&#x27;:<br>0.0848863114173119, ...</td>\n",
       "    </tr>\n",
       "    <tr>\n",
       "        <td style=\"padding-left: 1em; padding-right: 1em; text-align: center; vertical-align: top\">ENTJ</td>\n",
       "        <td style=\"padding-left: 1em; padding-right: 1em; text-align: center; vertical-align: top\">your firedthat anoth<br>silli misconcept that ...</td>\n",
       "        <td style=\"padding-left: 1em; padding-right: 1em; text-align: center; vertical-align: top\">{&#x27;acknowledg&#x27;:<br>3.239254987204853, ...</td>\n",
       "    </tr>\n",
       "    <tr>\n",
       "        <td style=\"padding-left: 1em; padding-right: 1em; text-align: center; vertical-align: top\">INTJ</td>\n",
       "        <td style=\"padding-left: 1em; padding-right: 1em; text-align: center; vertical-align: top\">1837 scienc is not<br>perfect no scientist ...</td>\n",
       "        <td style=\"padding-left: 1em; padding-right: 1em; text-align: center; vertical-align: top\">{&#x27;familiar&#x27;:<br>2.6729390066996106, ...</td>\n",
       "    </tr>\n",
       "    <tr>\n",
       "        <td style=\"padding-left: 1em; padding-right: 1em; text-align: center; vertical-align: top\">INFJ</td>\n",
       "        <td style=\"padding-left: 1em; padding-right: 1em; text-align: center; vertical-align: top\">no i cant draw on my own<br>nail haha those were  ...</td>\n",
       "        <td style=\"padding-left: 1em; padding-right: 1em; text-align: center; vertical-align: top\">{&#x27;ninja&#x27;:<br>3.9806042695826758, ...</td>\n",
       "    </tr>\n",
       "    <tr>\n",
       "        <td style=\"padding-left: 1em; padding-right: 1em; text-align: center; vertical-align: top\">INTJ</td>\n",
       "        <td style=\"padding-left: 1em; padding-right: 1em; text-align: center; vertical-align: top\">i tend to build up a<br>collect of thing on my ...</td>\n",
       "        <td style=\"padding-left: 1em; padding-right: 1em; text-align: center; vertical-align: top\">{&#x27;energi&#x27;:<br>1.9011627279028398, ...</td>\n",
       "    </tr>\n",
       "    <tr>\n",
       "        <td style=\"padding-left: 1em; padding-right: 1em; text-align: center; vertical-align: top\">INFJ</td>\n",
       "        <td style=\"padding-left: 1em; padding-right: 1em; text-align: center; vertical-align: top\">im not sure that a good<br>question the distinct ...</td>\n",
       "        <td style=\"padding-left: 1em; padding-right: 1em; text-align: center; vertical-align: top\">{&#x27;yeah&#x27;:<br>1.1851312535093068, &#x27; ...</td>\n",
       "    </tr>\n",
       "    <tr>\n",
       "        <td style=\"padding-left: 1em; padding-right: 1em; text-align: center; vertical-align: top\">INTP</td>\n",
       "        <td style=\"padding-left: 1em; padding-right: 1em; text-align: center; vertical-align: top\">in this posit where i<br>have to actual let go of ...</td>\n",
       "        <td style=\"padding-left: 1em; padding-right: 1em; text-align: center; vertical-align: top\">{&#x27;incarn&#x27;:<br>5.735996094639856, ...</td>\n",
       "    </tr>\n",
       "</table>\n",
       "[10 rows x 3 columns]<br/>\n",
       "</div>"
      ],
      "text/plain": [
       "Columns:\n",
       "\ttype\tstr\n",
       "\ttext\tstr\n",
       "\ttfidf\tdict\n",
       "\n",
       "Rows: 10\n",
       "\n",
       "Data:\n",
       "+------+-------------------------------+-------------------------------+\n",
       "| type |              text             |             tfidf             |\n",
       "+------+-------------------------------+-------------------------------+\n",
       "| INFJ | and intj moment sportscent... | {'start': 0.48054894975026... |\n",
       "| ENTP | im find the lack of me in ... | {'other': 0.09954970144018... |\n",
       "| INTP | good one cours to which i ... | {'221226218106istp': 9.068... |\n",
       "| INTJ | dear intp i enjoy our conv... | {'they': 0.084886311417311... |\n",
       "| ENTJ | your firedthat anoth silli... | {'acknowledg': 3.239254987... |\n",
       "| INTJ | 1837 scienc is not perfect... | {'familiar': 2.67293900669... |\n",
       "| INFJ | no i cant draw on my own n... | {'ninja': 3.98060426958267... |\n",
       "| INTJ | i tend to build up a colle... | {'energi': 1.9011627279028... |\n",
       "| INFJ | im not sure that a good qu... | {'yeah': 1.185131253509306... |\n",
       "| INTP | in this posit where i have... | {'incarn': 5.7359960946398... |\n",
       "+------+-------------------------------+-------------------------------+\n",
       "[10 rows x 3 columns]"
      ]
     },
     "execution_count": 5,
     "metadata": {},
     "output_type": "execute_result"
    }
   ],
   "source": [
    "posts.head()"
   ]
  },
  {
   "cell_type": "code",
   "execution_count": 6,
   "metadata": {},
   "outputs": [],
   "source": [
    "train_data, test_data = posts.random_split(.8, seed=7)"
   ]
  },
  {
   "cell_type": "code",
   "execution_count": 7,
   "metadata": {
    "scrolled": true
   },
   "outputs": [
    {
     "name": "stdout",
     "output_type": "stream",
     "text": [
      "PROGRESS: Creating a validation set from 5 percent of training data. This may take a while.\n",
      "          You can set ``validation_set=None`` to disable validation tracking.\n",
      "\n"
     ]
    },
    {
     "data": {
      "text/html": [
       "<pre>Boosted trees classifier:</pre>"
      ],
      "text/plain": [
       "Boosted trees classifier:"
      ]
     },
     "metadata": {},
     "output_type": "display_data"
    },
    {
     "data": {
      "text/html": [
       "<pre>--------------------------------------------------------</pre>"
      ],
      "text/plain": [
       "--------------------------------------------------------"
      ]
     },
     "metadata": {},
     "output_type": "display_data"
    },
    {
     "data": {
      "text/html": [
       "<pre>Number of examples          : 6631</pre>"
      ],
      "text/plain": [
       "Number of examples          : 6631"
      ]
     },
     "metadata": {},
     "output_type": "display_data"
    },
    {
     "data": {
      "text/html": [
       "<pre>Number of classes           : 16</pre>"
      ],
      "text/plain": [
       "Number of classes           : 16"
      ]
     },
     "metadata": {},
     "output_type": "display_data"
    },
    {
     "data": {
      "text/html": [
       "<pre>Number of feature columns   : 1</pre>"
      ],
      "text/plain": [
       "Number of feature columns   : 1"
      ]
     },
     "metadata": {},
     "output_type": "display_data"
    },
    {
     "data": {
      "text/html": [
       "<pre>Number of unpacked features : 237212</pre>"
      ],
      "text/plain": [
       "Number of unpacked features : 237212"
      ]
     },
     "metadata": {},
     "output_type": "display_data"
    },
    {
     "data": {
      "text/html": [
       "<pre>+-----------+--------------+-------------------+---------------------+-------------------+---------------------+</pre>"
      ],
      "text/plain": [
       "+-----------+--------------+-------------------+---------------------+-------------------+---------------------+"
      ]
     },
     "metadata": {},
     "output_type": "display_data"
    },
    {
     "data": {
      "text/html": [
       "<pre>| Iteration | Elapsed Time | Training Accuracy | Validation Accuracy | Training Log Loss | Validation Log Loss |</pre>"
      ],
      "text/plain": [
       "| Iteration | Elapsed Time | Training Accuracy | Validation Accuracy | Training Log Loss | Validation Log Loss |"
      ]
     },
     "metadata": {},
     "output_type": "display_data"
    },
    {
     "data": {
      "text/html": [
       "<pre>+-----------+--------------+-------------------+---------------------+-------------------+---------------------+</pre>"
      ],
      "text/plain": [
       "+-----------+--------------+-------------------+---------------------+-------------------+---------------------+"
      ]
     },
     "metadata": {},
     "output_type": "display_data"
    },
    {
     "data": {
      "text/html": [
       "<pre>| 1         | 1.644957     | 0.605339          | 0.580000            | 2.035392          | 2.094941            |</pre>"
      ],
      "text/plain": [
       "| 1         | 1.644957     | 0.605339          | 0.580000            | 2.035392          | 2.094941            |"
      ]
     },
     "metadata": {},
     "output_type": "display_data"
    },
    {
     "data": {
      "text/html": [
       "<pre>| 2         | 3.241565     | 0.639723          | 0.600000            | 1.759217          | 1.838160            |</pre>"
      ],
      "text/plain": [
       "| 2         | 3.241565     | 0.639723          | 0.600000            | 1.759217          | 1.838160            |"
      ]
     },
     "metadata": {},
     "output_type": "display_data"
    },
    {
     "data": {
      "text/html": [
       "<pre>| 3         | 4.839208     | 0.660836          | 0.611429            | 1.582669          | 1.681105            |</pre>"
      ],
      "text/plain": [
       "| 3         | 4.839208     | 0.660836          | 0.611429            | 1.582669          | 1.681105            |"
      ]
     },
     "metadata": {},
     "output_type": "display_data"
    },
    {
     "data": {
      "text/html": [
       "<pre>| 4         | 6.425414     | 0.669130          | 0.611429            | 1.453165          | 1.568921            |</pre>"
      ],
      "text/plain": [
       "| 4         | 6.425414     | 0.669130          | 0.611429            | 1.453165          | 1.568921            |"
      ]
     },
     "metadata": {},
     "output_type": "display_data"
    },
    {
     "data": {
      "text/html": [
       "<pre>| 5         | 7.994340     | 0.676519          | 0.614286            | 1.352089          | 1.490260            |</pre>"
      ],
      "text/plain": [
       "| 5         | 7.994340     | 0.676519          | 0.614286            | 1.352089          | 1.490260            |"
      ]
     },
     "metadata": {},
     "output_type": "display_data"
    },
    {
     "data": {
      "text/html": [
       "<pre>| 10        | 16.002159    | 0.711205          | 0.608571            | 1.057726          | 1.277785            |</pre>"
      ],
      "text/plain": [
       "| 10        | 16.002159    | 0.711205          | 0.608571            | 1.057726          | 1.277785            |"
      ]
     },
     "metadata": {},
     "output_type": "display_data"
    },
    {
     "data": {
      "text/html": [
       "<pre>+-----------+--------------+-------------------+---------------------+-------------------+---------------------+</pre>"
      ],
      "text/plain": [
       "+-----------+--------------+-------------------+---------------------+-------------------+---------------------+"
      ]
     },
     "metadata": {},
     "output_type": "display_data"
    }
   ],
   "source": [
    "personality_model = turicreate.boosted_trees_classifier.create(train_data, target=\"type\", features=[\"tfidf\"], max_depth=3, row_subsample=0.5)"
   ]
  },
  {
   "cell_type": "code",
   "execution_count": 8,
   "metadata": {
    "scrolled": true
   },
   "outputs": [
    {
     "data": {
      "text/plain": [
       "{'accuracy': 0.6340023612750886,\n",
       " 'auc': 0.9158623573033384,\n",
       " 'confusion_matrix': Columns:\n",
       " \ttarget_label\tstr\n",
       " \tpredicted_label\tstr\n",
       " \tcount\tint\n",
       " \n",
       " Rows: 144\n",
       " \n",
       " Data:\n",
       " +--------------+-----------------+-------+\n",
       " | target_label | predicted_label | count |\n",
       " +--------------+-----------------+-------+\n",
       " |     ESFJ     |       ESFJ      |   2   |\n",
       " |     ISTP     |       INFP      |   13  |\n",
       " |     INFJ     |       ESTP      |   1   |\n",
       " |     ISTJ     |       ENTJ      |   1   |\n",
       " |     ISTJ     |       ENTP      |   1   |\n",
       " |     ENTJ     |       INTP      |   4   |\n",
       " |     ISTP     |       INTP      |   8   |\n",
       " |     ISFP     |       INTP      |   2   |\n",
       " |     INTP     |       INTP      |  180  |\n",
       " |     ENFJ     |       ISTJ      |   1   |\n",
       " +--------------+-----------------+-------+\n",
       " [144 rows x 3 columns]\n",
       " Note: Only the head of the SFrame is printed.\n",
       " You can use print_rows(num_rows=m, num_columns=n) to print more rows and columns.,\n",
       " 'f1_score': 0.4964849812844756,\n",
       " 'log_loss': 1.2514154484077582,\n",
       " 'precision': 0.6432094125601939,\n",
       " 'recall': 0.45481923782978323,\n",
       " 'roc_curve': Columns:\n",
       " \tthreshold\tfloat\n",
       " \tfpr\tfloat\n",
       " \ttpr\tfloat\n",
       " \tp\tint\n",
       " \tn\tint\n",
       " \tclass\tint\n",
       " \n",
       " Rows: 1600016\n",
       " \n",
       " Data:\n",
       " +-----------+-----+-----+----+------+-------+\n",
       " | threshold | fpr | tpr | p  |  n   | class |\n",
       " +-----------+-----+-----+----+------+-------+\n",
       " |    0.0    | 1.0 | 1.0 | 43 | 1651 |   0   |\n",
       " |   1e-05   | 1.0 | 1.0 | 43 | 1651 |   0   |\n",
       " |   2e-05   | 1.0 | 1.0 | 43 | 1651 |   0   |\n",
       " |   3e-05   | 1.0 | 1.0 | 43 | 1651 |   0   |\n",
       " |   4e-05   | 1.0 | 1.0 | 43 | 1651 |   0   |\n",
       " |   5e-05   | 1.0 | 1.0 | 43 | 1651 |   0   |\n",
       " |   6e-05   | 1.0 | 1.0 | 43 | 1651 |   0   |\n",
       " |   7e-05   | 1.0 | 1.0 | 43 | 1651 |   0   |\n",
       " |   8e-05   | 1.0 | 1.0 | 43 | 1651 |   0   |\n",
       " |   9e-05   | 1.0 | 1.0 | 43 | 1651 |   0   |\n",
       " +-----------+-----+-----+----+------+-------+\n",
       " [1600016 rows x 6 columns]\n",
       " Note: Only the head of the SFrame is printed.\n",
       " You can use print_rows(num_rows=m, num_columns=n) to print more rows and columns.}"
      ]
     },
     "execution_count": 8,
     "metadata": {},
     "output_type": "execute_result"
    }
   ],
   "source": [
    "personality_model.evaluate(test_data)"
   ]
  },
  {
   "cell_type": "code",
   "execution_count": 58,
   "metadata": {},
   "outputs": [],
   "source": [
    "personality_model.save(\"personality_model\")"
   ]
  },
  {
   "cell_type": "code",
   "execution_count": 63,
   "metadata": {},
   "outputs": [
    {
     "data": {
      "text/plain": [
       "{'type': 'INTP',\n",
       " 'text': 'so mani question when i do these thing i would take the purpl pill pick win lotteri number do whatev i wanti work in a breweri for a coupl year here i dont know if your familiar with the local microscraft at all but mill st was the name of it their tankhous is my favorit of anyth locali am go to summon the great and power mr cafebot and his song of destruct the four horseman ride count your day peopl of earth intro nick the intp male from a basementthi thread is obvious about the textbook definit of manli ruffin it tuffin it and go hard in the mother fking paintstand up for yourself you ask for the time off and it was approv when they say oh shit we are short staf where is badger they figur out you ask for it off that whi you arnt therelol excel thread nt the dc i love watch basebal and play it oh and i hate the yanke im 19 ive had multipl partner i consid myself a man man i lift and i am intp noth thing with relationship is that you spend veri littl time in the bedroom compar to everyth els so while a dumb blond can make you happi for 20 minut a night it go to take morethink a man plant a fruit tree becaus it will give him food in a few year feel a few year later a squirrel is hungri so it eat the fruit from the tree intuit the man see hiswel i think you can appreci an einstein quot everyon is a genius but if you judg a fish on it abiil to climb a tree it will live it whole life believ it is stupid everybodyvsaucer men write poetry19 64oh and mountain dew releas mountain flavor dorito loco taco skateboard that is all also check this out stillther onli two thing i am certain of with rusel brand 1 he is veri heavilli extravert 2 he is a magic manher i am peopl im gonna make a male version intp video todayth creativ process of intp is get around to do the thing and not put it off i think were alway readi for work provid we have sleep and food in our stomachsi may look busi but i hear everythingim a guy but i like make video id love to be a part of thishey man it your life do or do not there is no tryy you know your an intp when you have more convers in your head than you do with real peopletldr yes i post thisspoken like a true intpif you realli are bother and i believ you are i think you should tell your boyfriend what you just said theremor invari get me talk becaus it has philosophi but with tangabl answer other good subject includ evolut hunter gather societi polit system good movieshey b3th i read your post and my immedi reaction was that your boyfriend is flip out over someth insignific have trust issu is noth to wag a finger at but i think your idea ofi enjoy 910 of darkbarlow s post so a crush ya maybein self defens but then it not realli a crime would you kill somebodi to save 1000 peopl for million of dollars“thirti year later he could not come to ani other conclus women were indisput better than men they were gentler more affection more love and more compassion they were rarelyw realli should make a clearcut method of differenti the two intp are lazi and useless they do thing for no reason often with disastr result the basic lack the thing that make7431774318743192013 not use adblock ps ask an analyt type they will tell you they want to see less advertis not help you do it betterhahahaha this73701 this is now a mango thread chameleon skill that thing where we can mirror the moodperson of other chameleon skill make me wonder if im be true to myselffre for allw wouldnt be human without either of themwel i know 100 sure you are wrong becaus i exist but obvious i cant prove it73121th problem is in the first word of your post watch the news tv news is entertain not journalismi resent the thought that human are noth but selfish creatur when be selfless can be accomplish on a whim fulfil in life often come in the form of give to other and solfonnyyup basic this lolsuicid is a perman solut to nonperman problem selfish it will caus pain and burden to your famili for the rest of their live so not think of them could be consideredlol your a women that was easyseri a day where everi intp is on adder we would live in utopia by noonrepeat the mantra i am self awareso you reject idea that dont come from god camus declar that human are here we exist there is noth that can chang that now we have a choic 1 get piss off give up or revoltwhat in fact is the absurd man he who without negat it doe noth for the etern not that nostalgia is foreign to him but he prefer his courag and his reason the first teach himso they dont need to elbow past peopl in a hurri and potenti miss the train door close otherwis they want to be first off the trainbus and not get stuck behind a crowd of slow walker this is a load question as for me im 19 and still strong believ in nonbelief internet polic restrain from troll at onc intp iicant',\n",
       " 'tfidf': {'iicant': 9.06820060481506,\n",
       "  'troll': 2.8436421755397,\n",
       "  'restrain': 5.136374972090734,\n",
       "  'strong': 1.2334124974268659,\n",
       "  'load': 3.0520434451167064,\n",
       "  'crowd': 2.913342510798642,\n",
       "  'stuck': 2.2837435421774166,\n",
       "  'trainbus': 9.06820060481506,\n",
       "  'still': 0.4266681391432151,\n",
       "  'otherwis': 2.0871948640933304,\n",
       "  'hurri': 4.423809705673687,\n",
       "  'past': 1.206858809215071,\n",
       "  'need': 0.29978187795765676,\n",
       "  'himso': 6.87097602747884,\n",
       "  'nonbelief': 7.45876269238096,\n",
       "  'courag': 3.6432505873336574,\n",
       "  'foreign': 3.6301212958918647,\n",
       "  'nostalgia': 4.314610413708695,\n",
       "  'etern': 3.735481811549691,\n",
       "  'doe': 0.5928716174975213,\n",
       "  'negat': 1.839812153241456,\n",
       "  'who': 0.17284498781866706,\n",
       "  'fact': 0.989822501188541,\n",
       "  'revoltwhat': 9.06820060481506,\n",
       "  'piss': 2.315930228673318,\n",
       "  'choic': 1.954244495249025,\n",
       "  'declar': 4.306026670017304,\n",
       "  'check': 1.734524209157376,\n",
       "  'camus': 5.512852543325646,\n",
       "  'adblock': 6.023678167091637,\n",
       "  'wouldnt': 1.0261441947563061,\n",
       "  'releas': 3.3156279659894268,\n",
       "  'mountain': 6.689231005725358,\n",
       "  'see': 0.32931433830068063,\n",
       "  'real': 1.016859671522082,\n",
       "  'abiil': 9.06820060481506,\n",
       "  'self': 3.0403432697600916,\n",
       "  'slow': 2.616151650377834,\n",
       "  'result': 1.5206989220000928,\n",
       "  'on': 0.03303423699915606,\n",
       "  'quot': 1.8692693641268863,\n",
       "  'door': 2.5344117668817163,\n",
       "  'out': 0.2550354166518772,\n",
       "  'male': 3.0700835947189944,\n",
       "  'spend': 1.472310687096522,\n",
       "  'hiswel': 7.6819062436951695,\n",
       "  'eat': 1.5534008443263894,\n",
       "  'taco': 5.430614445088674,\n",
       "  'gentler': 6.36015040371285,\n",
       "  'miss': 1.5956998600775019,\n",
       "  'later': 3.6912691719857786,\n",
       "  'bother': 1.7125595018408064,\n",
       "  'few': 1.2640011452167088,\n",
       "  'food': 3.7701778061435576,\n",
       "  'give': 1.5043669037087244,\n",
       "  'genius': 3.1932698739630294,\n",
       "  'fruit': 7.795433219553816,\n",
       "  'intuit': 1.6123239173232353,\n",
       "  'approv': 3.8107052327872784,\n",
       "  'resent': 3.847844779736735,\n",
       "  'minut': 1.902707129754214,\n",
       "  'dew': 5.932706388885911,\n",
       "  'convers': 1.1806165731547802,\n",
       "  'blond': 4.070988331050945,\n",
       "  'talk': 0.37470392893043086,\n",
       "  'everyth': 0.7514114777435429,\n",
       "  'badger': 5.602464702015333,\n",
       "  '64oh': 9.06820060481506,\n",
       "  'compar': 2.0937216937900147,\n",
       "  'is': 0.03714813913234929,\n",
       "  'can': 0.23965871546446652,\n",
       "  'boyfriend': 4.624863365661609,\n",
       "  'bedroom': 3.9867962398305967,\n",
       "  'more': 0.26544602966486786,\n",
       "  'plant': 3.6432505873336574,\n",
       "  'veri': 0.356957611073846,\n",
       "  'believ': 2.1096798791290006,\n",
       "  'morethink': 9.06820060481506,\n",
       "  'walker': 5.890146774467114,\n",
       "  'life': 1.0096242098349022,\n",
       "  'indisput': 8.375053424255114,\n",
       "  'relationship': 0.732049788694397,\n",
       "  'man': 7.181336408949921,\n",
       "  'reaction': 2.3848396590487853,\n",
       "  'had': 0.22055324910317262,\n",
       "  'ive': 0.2435227136508618,\n",
       "  'if': 0.0884377994990887,\n",
       "  'multipl': 2.613002041474938,\n",
       "  '19': 6.682705714455726,\n",
       "  'mani': 0.4995541318099068,\n",
       "  'im': 0.28124461845737486,\n",
       "  'a': 0.02583174908192547,\n",
       "  'hate': 0.8222913400409672,\n",
       "  'gonna': 2.024167707540375,\n",
       "  'dc': 4.878545862788634,\n",
       "  'nt': 2.7000134184645677,\n",
       "  'whim': 4.990663160909341,\n",
       "  'close': 0.9735169561162454,\n",
       "  'skateboard': 5.977158151456744,\n",
       "  'arnt': 6.234987260758844,\n",
       "  'without': 1.786432143743944,\n",
       "  'whi': 0.3305875680062093,\n",
       "  'was': 0.10748310229263787,\n",
       "  'get': 0.20820784881327684,\n",
       "  'often': 1.656686387592918,\n",
       "  '20': 2.2747344722350507,\n",
       "  'pill': 3.903414630891546,\n",
       "  'that': 0.04503468706969664,\n",
       "  'question': 1.1757577763494544,\n",
       "  'provid': 2.4012438123858533,\n",
       "  'loco': 7.96958831614695,\n",
       "  'locali': 7.276441135587005,\n",
       "  'whole': 1.126905033908528,\n",
       "  'other': 0.3981988057607412,\n",
       "  'teach': 2.3848396590487853,\n",
       "  'thread': 1.680749984297265,\n",
       "  'are': 0.09668774228934585,\n",
       "  'my': 0.007854017947321525,\n",
       "  'say': 0.1219559954845164,\n",
       "  'guy': 0.5808482554098438,\n",
       "  'polic': 3.65655455296002,\n",
       "  'ya': 2.886115698098428,\n",
       "  'love': 0.6496115383448481,\n",
       "  'st': 4.119440714436892,\n",
       "  'dorito': 6.503251247353523,\n",
       "  'this73701': 9.06820060481506,\n",
       "  'consid': 0.9713831342427411,\n",
       "  'him': 1.2454365219056458,\n",
       "  'mantra': 5.735996094639856,\n",
       "  'mill': 5.700904774828586,\n",
       "  'it': 0.032302729680303725,\n",
       "  'breweri': 7.122290455759747,\n",
       "  'be': 0.032351299639967177,\n",
       "  'poetry19': 9.06820060481506,\n",
       "  'oh': 2.5059870852519444,\n",
       "  'with': 0.04164273511818002,\n",
       "  'just': 0.024741605144953945,\n",
       "  'dont': 0.10522455679406145,\n",
       "  'noth': 4.572815592148886,\n",
       "  'skill': 4.11939084546556,\n",
       "  'wanti': 4.805520727773745,\n",
       "  'microscraft': 9.06820060481506,\n",
       "  'rest': 1.8843298897526075,\n",
       "  'win': 2.4696915762005442,\n",
       "  'obvious': 2.920645063073105,\n",
       "  'summon': 5.042848914079911,\n",
       "  'busi': 1.816855621442846,\n",
       "  'they': 0.7639768027558071,\n",
       "  'absurd': 3.7748957800905676,\n",
       "  'figur': 1.1961266249481863,\n",
       "  'excel': 2.701730157083622,\n",
       "  'would': 0.2554119463040817,\n",
       "  'onli': 0.1972567409773369,\n",
       "  'becaus': 0.3592338374085527,\n",
       "  'polit': 2.0807103578140693,\n",
       "  'we': 0.9895741145450897,\n",
       "  'take': 0.5769786292211825,\n",
       "  'subject': 1.610591315099454,\n",
       "  'therelol': 7.6819062436951695,\n",
       "  'shit': 1.703653590559418,\n",
       "  'an': 0.08345559194829932,\n",
       "  'year': 1.6034590198764125,\n",
       "  'do': 0.15456719172402159,\n",
       "  'system': 1.8133157947377219,\n",
       "  'advertis': 4.3586704035027255,\n",
       "  'either': 0.9177326931910562,\n",
       "  'appreci': 1.4479858342406047,\n",
       "  'yourself': 0.9941743886909984,\n",
       "  'i': 0.02768166396848293,\n",
       "  'fish': 3.2102674503316004,\n",
       "  'power': 1.7503244061885643,\n",
       "  'number': 1.8133157947377219,\n",
       "  'less': 1.158343937545657,\n",
       "  'issu': 1.2958690296454467,\n",
       "  'local': 3.1306643997326336,\n",
       "  'night': 1.3624877809206324,\n",
       "  'you': 0.0570307516624153,\n",
       "  'happi': 0.9449392856933138,\n",
       "  'peopl': 0.194630432455502,\n",
       "  'time': 0.14037498343847551,\n",
       "  'everyon': 0.7041585928929973,\n",
       "  'whatev': 1.4328967185556454,\n",
       "  'cafebot': 5.097908691262938,\n",
       "  'live': 1.8297255639569507,\n",
       "  'these': 0.6455378972450558,\n",
       "  'conclus': 2.3540300749055882,\n",
       "  'judg': 1.9042539204725129,\n",
       "  'everi': 0.7090657180570978,\n",
       "  'climb': 3.8107052327872784,\n",
       "  'off': 2.82147653862879,\n",
       "  'staf': 7.45876269238096,\n",
       "  'go': 0.310131639389938,\n",
       "  'where': 1.3818552410134255,\n",
       "  'favorit': 1.3847969237612339,\n",
       "  'your': 0.34662995869176344,\n",
       "  'nonperman': 9.06820060481506,\n",
       "  'readi': 2.5015281750118192,\n",
       "  'adder': 7.276441135587005,\n",
       "  'fking': 6.87097602747884,\n",
       "  'them': 0.15209707426133245,\n",
       "  'feel': 0.10914609009936745,\n",
       "  'name': 1.2962903483792962,\n",
       "  'themwel': 5.849324779946859,\n",
       "  'nick': 4.649359997018462,\n",
       "  'anyth': 0.560249994765755,\n",
       "  'to': 0.007840424444289461,\n",
       "  'journalismi': 9.06820060481506,\n",
       "  'thing': 0.5933258312155947,\n",
       "  'play': 0.7979314933784356,\n",
       "  'video': 2.7760499287569393,\n",
       "  'about': 0.029360551001248434,\n",
       "  'stupid': 1.6542303146246153,\n",
       "  'chang': 0.8115932601889024,\n",
       "  'know': 0.16126040898877947,\n",
       "  'invari': 6.023678167091637,\n",
       "  'save': 2.127010549746686,\n",
       "  'elbow': 5.379321150701124,\n",
       "  'familiar': 2.6729390066996106,\n",
       "  'write': 1.023574325047723,\n",
       "  'wag': 6.87097602747884,\n",
       "  'but': 0.06708329575293147,\n",
       "  'everythingim': 6.87097602747884,\n",
       "  'four': 2.2928345138786685,\n",
       "  'at': 0.1109606962089378,\n",
       "  'of': 0.0249163726485549,\n",
       "  'prove': 2.4931247642154397,\n",
       "  'dollars“thirti': 9.06820060481506,\n",
       "  'partner': 2.105957140548853,\n",
       "  'exist': 3.278546820025576,\n",
       "  'lift': 3.725866352850249,\n",
       "  'coupl': 1.41993757391314,\n",
       "  'or': 0.04806577578692178,\n",
       "  'horseman': 7.45876269238096,\n",
       "  'idea': 1.2726949211316758,\n",
       "  'all': 0.0816439890405104,\n",
       "  'his': 1.8316353783450563,\n",
       "  'pain': 1.840538106086405,\n",
       "  'short': 1.6524236293996664,\n",
       "  'should': 1.0769722656903016,\n",
       "  'intro': 4.011954799466752,\n",
       "  'destruct': 3.869703573549234,\n",
       "  'were': 1.2253489261613304,\n",
       "  'intp': 7.065033018262219,\n",
       "  'squirrel': 5.060867419582589,\n",
       "  'behind': 2.0085829765236767,\n",
       "  'lotteri': 5.218053003105001,\n",
       "  'tree': 8.740027532395926,\n",
       "  'process': 1.6954542384107316,\n",
       "  'in': 0.03451263064743768,\n",
       "  'tuffin': 9.06820060481506,\n",
       "  'pick': 1.5452596867426895,\n",
       "  'work': 0.6211483870953042,\n",
       "  'hard': 0.630700182308071,\n",
       "  'einstein': 4.239886867512759,\n",
       "  'basementthi': 9.06820060481506,\n",
       "  'everybodyvsaucer': 9.06820060481506,\n",
       "  'myselffre': 9.06820060481506,\n",
       "  'make': 0.44770057587686685,\n",
       "  'textbook': 4.09838730523906,\n",
       "  'definit': 0.7536133134954842,\n",
       "  'may': 0.7487269123728739,\n",
       "  'when': 0.2048091716651894,\n",
       "  'mango': 5.667003223152904,\n",
       "  'mother': 1.6369009296591575,\n",
       "  'betterhahahaha': 9.06820060481506,\n",
       "  'paintstand': 9.06820060481506,\n",
       "  'song': 1.3450805125487284,\n",
       "  'societi': 1.9949308873553495,\n",
       "  'up': 0.22627930836631477,\n",
       "  'great': 0.7308520403178846,\n",
       "  'so': 0.0989554999254892,\n",
       "  'thishey': 6.87097602747884,\n",
       "  'ask': 1.692885923177274,\n",
       "  'while': 0.6054635991948814,\n",
       "  'am': 1.1584066780629003,\n",
       "  'dumb': 2.7710912848811247,\n",
       "  'stillther': 9.06820060481506,\n",
       "  'internet': 1.785439425209467,\n",
       "  'watch': 1.7696064696332543,\n",
       "  'wrong': 0.9647063264340905,\n",
       "  'this': 0.05011085140406375,\n",
       "  'consideredlol': 9.06820060481506,\n",
       "  '1000': 4.239886867512759,\n",
       "  'flavor': 4.011954799466752,\n",
       "  'two': 1.2557769154695604,\n",
       "  'famili': 1.1873962601401589,\n",
       "  'certain': 0.9738221598420999,\n",
       "  'someth': 0.20770143719904452,\n",
       "  'easyseri': 9.06820060481506,\n",
       "  'rusel': 8.375053424255114,\n",
       "  'true': 1.89879521567005,\n",
       "  'here': 0.6073573905925155,\n",
       "  '1': 1.9059572645054623,\n",
       "  'tell': 1.1024148668029792,\n",
       "  'heavilli': 9.06820060481506,\n",
       "  'me': 0.036882858437823685,\n",
       "  'magic': 2.7474323105644776,\n",
       "  'manher': 8.375053424255114,\n",
       "  'version': 2.3761168623084314,\n",
       "  'todayth': 6.988759063135224,\n",
       "  'from': 0.30954135452150344,\n",
       "  'useless': 3.0090774092332633,\n",
       "  'not': 0.11011412333052017,\n",
       "  'extravert': 2.6482056766679176,\n",
       "  'tangabl': 8.375053424255114,\n",
       "  'theremor': 8.375053424255114,\n",
       "  'creatur': 3.38122524847524,\n",
       "  'put': 0.6875146580534856,\n",
       "  'els': 0.8360263684311198,\n",
       "  'alway': 0.275347316174367,\n",
       "  'have': 0.022657710429086233,\n",
       "  'sleep': 1.5583175436601462,\n",
       "  'ride': 2.8944145009131232,\n",
       "  'our': 0.6574796579093393,\n",
       "  'trust': 1.7138382743935834,\n",
       "  'look': 0.25923372304378806,\n",
       "  'hear': 1.2184868472101902,\n",
       "  'hungri': 3.7549946257732727,\n",
       "  'like': 0.023655192272607817,\n",
       "  'stomachsi': 9.06820060481506,\n",
       "  'id': 0.662162462764985,\n",
       "  'part': 0.730134079296258,\n",
       "  'think': 0.14146372620209202,\n",
       "  'there': 0.20113787929585386,\n",
       "  'no': 0.29856524981276295,\n",
       "  'tankhous': 9.06820060481506,\n",
       "  'tryy': 9.06820060481506,\n",
       "  'head': 1.0355157288474397,\n",
       "  'than': 0.49146206509218093,\n",
       "  'also': 0.24957037571470575,\n",
       "  'post': 1.675007337113407,\n",
       "  'make7431774318743192013': 9.06820060481506,\n",
       "  'evolut': 4.037762683422624,\n",
       "  'thisspoken': 9.06820060481506,\n",
       "  'form': 1.7260688742303385,\n",
       "  'manli': 6.234987260758844,\n",
       "  'intpif': 6.988759063135224,\n",
       "  'realli': 0.3162736760843071,\n",
       "  '910': 5.512852543325646,\n",
       "  'allw': 7.6819062436951695,\n",
       "  'what': 0.028648553819158873,\n",
       "  'for': 0.04712410768392915,\n",
       "  'said': 0.4910418322313885,\n",
       "  'caus': 1.4085576502503774,\n",
       "  'has': 0.22993892192940818,\n",
       "  'men': 3.676723653327619,\n",
       "  'their': 0.6445589675814242,\n",
       "  'philosophi': 2.5729350488780516,\n",
       "  'yes': 0.7450777172273252,\n",
       "  'gather': 2.7710912848811247,\n",
       "  'crush': 2.3312336468132044,\n",
       "  'mr': 3.2045694292169626,\n",
       "  'ps': 3.069264042868377,\n",
       "  'good': 0.36468922362952566,\n",
       "  'kill': 1.8147302221305326,\n",
       "  'hunter': 4.4934896263116775,\n",
       "  'includ': 1.7875034094303186,\n",
       "  'movieshey': 9.06820060481506,\n",
       "  'read': 0.34529490381429223,\n",
       "  'defens': 3.099493044829694,\n",
       "  'immedi': 2.3798458908682982,\n",
       "  'flip': 3.5152410198934425,\n",
       "  'ruffin': 9.06820060481506,\n",
       "  'disastr': 5.48468166635895,\n",
       "  'then': 0.2531275159705955,\n",
       "  'over': 0.47701373349049625,\n",
       "  'count': 2.1745442502124246,\n",
       "  'insignific': 4.724395182961376,\n",
       "  'ofi': 2.273614023938561,\n",
       "  'enjoy': 0.8531941720534852,\n",
       "  'selfless': 4.47308075468047,\n",
       "  'peopletldr': 9.06820060481506,\n",
       "  'darkbarlow': 6.67030533201669,\n",
       "  'as': 0.028529936892384315,\n",
       "  'basebal': 4.602292486160477,\n",
       "  'day': 0.9648292438664217,\n",
       "  'wonder': 0.8934977223455985,\n",
       "  's': 2.255855510637581,\n",
       "  'word': 0.8071908187912326,\n",
       "  'maybein': 7.96958831614695,\n",
       "  'crime': 3.716342471338993,\n",
       "  'he': 1.6433209112769092,\n",
       "  'somebodi': 2.59276788811097,\n",
       "  'reason': 1.3109588699910673,\n",
       "  'cant': 0.3297857076473114,\n",
       "  'million': 3.1071952651917867,\n",
       "  'could': 0.5921103311399211,\n",
       "  'entertain': 2.6948808152380472,\n",
       "  'littl': 0.6139472131726967,\n",
       "  'and': 0.018452313614300383,\n",
       "  'come': 0.9516027417490786,\n",
       "  'ani': 0.28895088858601436,\n",
       "  'answer': 0.8966011244695965,\n",
       "  'analyt': 3.725866352850249,\n",
       "  'better': 0.5980990209326731,\n",
       "  'compassion': 4.239886867512759,\n",
       "  'the': 0.0178725862546437,\n",
       "  'around': 0.5193149666663328,\n",
       "  'rarelyw': 9.06820060481506,\n",
       "  'clearcut': 6.503251247353523,\n",
       "  'method': 2.6384811267759227,\n",
       "  'differenti': 3.6745730584626983,\n",
       "  'lazi': 2.2096355700236945,\n",
       "  'mirror': 3.096938765024597,\n",
       "  'onc': 0.8982979574559148,\n",
       "  'purpl': 3.7748957800905676,\n",
       "  'basic': 2.7604068768440877,\n",
       "  'potenti': 2.185763133817213,\n",
       "  'affection': 3.8055104159101742,\n",
       "  'lack': 1.5922946354476628,\n",
       "  'use': 0.24705836848316962,\n",
       "  'type': 0.25208870902105385,\n",
       "  'yanke': 7.122290455759747,\n",
       "  'lolsuicid': 9.06820060481506,\n",
       "  'want': 0.25986291555302127,\n",
       "  'help': 0.5162195879131586,\n",
       "  'accomplish': 3.016111435890643,\n",
       "  'now': 0.5340644057567361,\n",
       "  'myself': 0.32594570292870895,\n",
       "  'tv': 2.291693612442877,\n",
       "  'problem': 1.414386993176303,\n",
       "  'chameleon': 8.224747094427599,\n",
       "  'train': 2.43619882741943,\n",
       "  'burden': 3.914909010317281,\n",
       "  'selfish': 5.413796254484129,\n",
       "  'moodperson': 9.06820060481506,\n",
       "  'human': 3.749310998233211,\n",
       "  '2': 0.6981162784370347,\n",
       "  '100': 1.9190690062576534,\n",
       "  'sure': 0.38600157881455577,\n",
       "  'will': 0.8914216335733134,\n",
       "  'women': 3.2005165450584165,\n",
       "  'it73121th': 9.06820060481506,\n",
       "  'first': 1.167686273508592,\n",
       "  'news': 5.590647196537785,\n",
       "  'thought': 0.3232345937009505,\n",
       "  'fulfil': 3.213128682612633,\n",
       "  'solfonnyyup': 9.06820060481506,\n",
       "  'brand': 3.795201046251313,\n",
       "  'perman': 3.847844779736735,\n",
       "  'solut': 2.7173148881003204,\n",
       "  'prefer': 1.1148822582546287,\n",
       "  'b3th': 9.06820060481506,\n",
       "  'utopia': 5.57169304334858,\n",
       "  'earth': 2.4765268728064016,\n",
       "  'by': 0.1601822820301732,\n",
       "  'noonrepeat': 9.06820060481506,\n",
       "  'awareso': 9.06820060481506,\n",
       "  'reject': 2.6482056766679176,\n",
       "  'finger': 3.0943909929457987,\n",
       "  'creativ': 2.024167707540375,\n",
       "  'god': 1.4543819200064312}}"
      ]
     },
     "execution_count": 63,
     "metadata": {},
     "output_type": "execute_result"
    }
   ],
   "source": [
    "posts[-3]"
   ]
  },
  {
   "cell_type": "code",
   "execution_count": 64,
   "metadata": {},
   "outputs": [
    {
     "data": {
      "text/plain": [
       "dtype: str\n",
       "Rows: 1\n",
       "['INTP']"
      ]
     },
     "execution_count": 64,
     "metadata": {},
     "output_type": "execute_result"
    }
   ],
   "source": [
    "personality_model.predict(posts[-3])"
   ]
  },
  {
   "cell_type": "code",
   "execution_count": null,
   "metadata": {},
   "outputs": [],
   "source": []
  }
 ],
 "metadata": {
  "kernelspec": {
   "display_name": "Python 3",
   "language": "python",
   "name": "python3"
  },
  "language_info": {
   "codemirror_mode": {
    "name": "ipython",
    "version": 3
   },
   "file_extension": ".py",
   "mimetype": "text/x-python",
   "name": "python",
   "nbconvert_exporter": "python",
   "pygments_lexer": "ipython3",
   "version": "3.6.9"
  }
 },
 "nbformat": 4,
 "nbformat_minor": 4
}
