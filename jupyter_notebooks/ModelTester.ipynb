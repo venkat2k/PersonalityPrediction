{
 "cells": [
  {
   "cell_type": "code",
   "execution_count": 1,
   "metadata": {},
   "outputs": [],
   "source": [
    "import turicreate\n",
    "import re, string\n",
    "from nltk.corpus import stopwords\n",
    "from nltk.stem.snowball import SnowballStemmer"
   ]
  },
  {
   "cell_type": "code",
   "execution_count": 2,
   "metadata": {},
   "outputs": [],
   "source": [
    "personality_model = turicreate.load_model(\"personality_model/\")"
   ]
  },
  {
   "cell_type": "code",
   "execution_count": 3,
   "metadata": {},
   "outputs": [],
   "source": [
    "stemmer = SnowballStemmer(\"english\")"
   ]
  },
  {
   "cell_type": "code",
   "execution_count": 7,
   "metadata": {},
   "outputs": [],
   "source": [
    "def clean_data(text):\n",
    "    text = text.lower()\n",
    "    text = ' '.join(re.sub(\"(@[A-Za-z0-9]+)|([^0-9A-Za-z \\t])|(\\w+:\\/\\/\\S+)\", \" \", text).split())\n",
    "    text = re.sub(r'http\\S+', '', text)\n",
    "    chars = re.escape(string.punctuation)\n",
    "    text = re.sub(r'['+chars+']', '', text)\n",
    "    words = text.split()\n",
    "    clean_text = \"\"\n",
    "    for word in words:\n",
    "        clean_text += stemmer.stem(word) + \" \";\n",
    "    return clean_text"
   ]
  },
  {
   "cell_type": "code",
   "execution_count": 5,
   "metadata": {},
   "outputs": [],
   "source": [
    "def predict(text):\n",
    "    text = clean_data(text)\n",
    "    with open(\"testset.csv\", \"w\") as fp:\n",
    "        fp.write(\"type,text\\n\")\n",
    "        fp.write(\"default,\"+text)\n",
    "    sf = turicreate.SFrame(\"testset.csv\")\n",
    "    sf[\"tfidf\"] = turicreate.text_analytics.count_words(sf[\"text\"])\n",
    "    result = personality_model.predict(sf[0])\n",
    "    return result"
   ]
  },
  {
   "cell_type": "code",
   "execution_count": null,
   "metadata": {},
   "outputs": [],
   "source": []
  }
 ],
 "metadata": {
  "kernelspec": {
   "display_name": "Python 3",
   "language": "python",
   "name": "python3"
  },
  "language_info": {
   "codemirror_mode": {
    "name": "ipython",
    "version": 3
   },
   "file_extension": ".py",
   "mimetype": "text/x-python",
   "name": "python",
   "nbconvert_exporter": "python",
   "pygments_lexer": "ipython3",
   "version": "3.6.9"
  }
 },
 "nbformat": 4,
 "nbformat_minor": 4
}
